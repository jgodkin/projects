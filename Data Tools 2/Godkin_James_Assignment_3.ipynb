{
 "cells": [
  {
   "cell_type": "code",
   "execution_count": 1,
   "metadata": {},
   "outputs": [],
   "source": [
    "#James Godkin"
   ]
  },
  {
   "cell_type": "code",
   "execution_count": 98,
   "metadata": {},
   "outputs": [],
   "source": [
    "import numpy as np\n",
    "import pandas as pd\n",
    "import matplotlib\n",
    "import matplotlib.pyplot as plt\n",
    "import sklearn\n",
    "import seaborn as sns\n",
    "from sklearn.preprocessing import MinMaxScaler\n",
    "from sklearn.model_selection import train_test_split\n",
    "from sklearn import tree\n",
    "from sklearn import metrics\n",
    "from sklearn.model_selection import GridSearchCV\n",
    "from sklearn.model_selection import cross_val_score\n",
    "from sklearn.model_selection import validation_curve\n",
    "from sklearn.ensemble import RandomForestClassifier"
   ]
  },
  {
   "cell_type": "code",
   "execution_count": 3,
   "metadata": {},
   "outputs": [
    {
     "data": {
      "text/html": [
       "<div>\n",
       "<style scoped>\n",
       "    .dataframe tbody tr th:only-of-type {\n",
       "        vertical-align: middle;\n",
       "    }\n",
       "\n",
       "    .dataframe tbody tr th {\n",
       "        vertical-align: top;\n",
       "    }\n",
       "\n",
       "    .dataframe thead th {\n",
       "        text-align: right;\n",
       "    }\n",
       "</style>\n",
       "<table border=\"1\" class=\"dataframe\">\n",
       "  <thead>\n",
       "    <tr style=\"text-align: right;\">\n",
       "      <th></th>\n",
       "      <th>Age</th>\n",
       "      <th>HomeOwner</th>\n",
       "      <th>Female</th>\n",
       "      <th>Married</th>\n",
       "      <th>HouseholdSize</th>\n",
       "      <th>Income</th>\n",
       "      <th>Education</th>\n",
       "      <th>Church</th>\n",
       "      <th>Undecided</th>\n",
       "    </tr>\n",
       "  </thead>\n",
       "  <tbody>\n",
       "    <tr>\n",
       "      <th>0</th>\n",
       "      <td>51</td>\n",
       "      <td>1</td>\n",
       "      <td>1</td>\n",
       "      <td>1</td>\n",
       "      <td>4</td>\n",
       "      <td>171.0</td>\n",
       "      <td>15</td>\n",
       "      <td>0</td>\n",
       "      <td>1</td>\n",
       "    </tr>\n",
       "    <tr>\n",
       "      <th>1</th>\n",
       "      <td>46</td>\n",
       "      <td>1</td>\n",
       "      <td>1</td>\n",
       "      <td>1</td>\n",
       "      <td>6</td>\n",
       "      <td>420.0</td>\n",
       "      <td>15</td>\n",
       "      <td>1</td>\n",
       "      <td>0</td>\n",
       "    </tr>\n",
       "    <tr>\n",
       "      <th>2</th>\n",
       "      <td>55</td>\n",
       "      <td>1</td>\n",
       "      <td>0</td>\n",
       "      <td>1</td>\n",
       "      <td>6</td>\n",
       "      <td>132.0</td>\n",
       "      <td>16</td>\n",
       "      <td>0</td>\n",
       "      <td>1</td>\n",
       "    </tr>\n",
       "    <tr>\n",
       "      <th>3</th>\n",
       "      <td>50</td>\n",
       "      <td>1</td>\n",
       "      <td>0</td>\n",
       "      <td>1</td>\n",
       "      <td>4</td>\n",
       "      <td>18.0</td>\n",
       "      <td>8</td>\n",
       "      <td>0</td>\n",
       "      <td>0</td>\n",
       "    </tr>\n",
       "    <tr>\n",
       "      <th>4</th>\n",
       "      <td>49</td>\n",
       "      <td>1</td>\n",
       "      <td>1</td>\n",
       "      <td>1</td>\n",
       "      <td>2</td>\n",
       "      <td>66.0</td>\n",
       "      <td>15</td>\n",
       "      <td>1</td>\n",
       "      <td>1</td>\n",
       "    </tr>\n",
       "  </tbody>\n",
       "</table>\n",
       "</div>"
      ],
      "text/plain": [
       "   Age  HomeOwner  Female  Married  HouseholdSize  Income  Education  Church  \\\n",
       "0   51          1       1        1              4   171.0         15       0   \n",
       "1   46          1       1        1              6   420.0         15       1   \n",
       "2   55          1       0        1              6   132.0         16       0   \n",
       "3   50          1       0        1              4    18.0          8       0   \n",
       "4   49          1       1        1              2    66.0         15       1   \n",
       "\n",
       "   Undecided  \n",
       "0          1  \n",
       "1          0  \n",
       "2          1  \n",
       "3          0  \n",
       "4          1  "
      ]
     },
     "execution_count": 3,
     "metadata": {},
     "output_type": "execute_result"
    }
   ],
   "source": [
    "blueRed_df = pd.read_csv('BlueOrRed.csv')\n",
    "blueRed_df.head(5)"
   ]
  },
  {
   "cell_type": "code",
   "execution_count": 4,
   "metadata": {},
   "outputs": [
    {
     "name": "stdout",
     "output_type": "stream",
     "text": [
      "<class 'pandas.core.frame.DataFrame'>\n",
      "RangeIndex: 10000 entries, 0 to 9999\n",
      "Data columns (total 9 columns):\n",
      " #   Column         Non-Null Count  Dtype  \n",
      "---  ------         --------------  -----  \n",
      " 0   Age            10000 non-null  int64  \n",
      " 1   HomeOwner      10000 non-null  int64  \n",
      " 2   Female         10000 non-null  int64  \n",
      " 3   Married        10000 non-null  int64  \n",
      " 4   HouseholdSize  10000 non-null  int64  \n",
      " 5   Income         10000 non-null  float64\n",
      " 6   Education      10000 non-null  int64  \n",
      " 7   Church         10000 non-null  int64  \n",
      " 8   Undecided      10000 non-null  int64  \n",
      "dtypes: float64(1), int64(8)\n",
      "memory usage: 703.2 KB\n"
     ]
    },
    {
     "data": {
      "text/plain": [
       "Age              0\n",
       "HomeOwner        0\n",
       "Female           0\n",
       "Married          0\n",
       "HouseholdSize    0\n",
       "Income           0\n",
       "Education        0\n",
       "Church           0\n",
       "Undecided        0\n",
       "dtype: int64"
      ]
     },
     "execution_count": 4,
     "metadata": {},
     "output_type": "execute_result"
    }
   ],
   "source": [
    "blueRed_df.info()\n",
    "blueRed_df.isnull().sum()"
   ]
  },
  {
   "cell_type": "code",
   "execution_count": 5,
   "metadata": {},
   "outputs": [
    {
     "data": {
      "text/html": [
       "<div>\n",
       "<style scoped>\n",
       "    .dataframe tbody tr th:only-of-type {\n",
       "        vertical-align: middle;\n",
       "    }\n",
       "\n",
       "    .dataframe tbody tr th {\n",
       "        vertical-align: top;\n",
       "    }\n",
       "\n",
       "    .dataframe thead th {\n",
       "        text-align: right;\n",
       "    }\n",
       "</style>\n",
       "<table border=\"1\" class=\"dataframe\">\n",
       "  <thead>\n",
       "    <tr style=\"text-align: right;\">\n",
       "      <th></th>\n",
       "      <th>Age</th>\n",
       "      <th>HomeOwner</th>\n",
       "      <th>Female</th>\n",
       "      <th>Married</th>\n",
       "      <th>HouseholdSize</th>\n",
       "      <th>Income</th>\n",
       "      <th>Education</th>\n",
       "      <th>Church</th>\n",
       "      <th>Undecided</th>\n",
       "    </tr>\n",
       "  </thead>\n",
       "  <tbody>\n",
       "    <tr>\n",
       "      <th>0</th>\n",
       "      <td>0.523810</td>\n",
       "      <td>1</td>\n",
       "      <td>1</td>\n",
       "      <td>1</td>\n",
       "      <td>0.500000</td>\n",
       "      <td>0.306422</td>\n",
       "      <td>0.583333</td>\n",
       "      <td>0</td>\n",
       "      <td>1</td>\n",
       "    </tr>\n",
       "    <tr>\n",
       "      <th>1</th>\n",
       "      <td>0.444444</td>\n",
       "      <td>1</td>\n",
       "      <td>1</td>\n",
       "      <td>1</td>\n",
       "      <td>0.833333</td>\n",
       "      <td>0.763303</td>\n",
       "      <td>0.583333</td>\n",
       "      <td>1</td>\n",
       "      <td>0</td>\n",
       "    </tr>\n",
       "    <tr>\n",
       "      <th>2</th>\n",
       "      <td>0.587302</td>\n",
       "      <td>1</td>\n",
       "      <td>0</td>\n",
       "      <td>1</td>\n",
       "      <td>0.833333</td>\n",
       "      <td>0.234862</td>\n",
       "      <td>0.666667</td>\n",
       "      <td>0</td>\n",
       "      <td>1</td>\n",
       "    </tr>\n",
       "    <tr>\n",
       "      <th>3</th>\n",
       "      <td>0.507937</td>\n",
       "      <td>1</td>\n",
       "      <td>0</td>\n",
       "      <td>1</td>\n",
       "      <td>0.500000</td>\n",
       "      <td>0.025688</td>\n",
       "      <td>0.000000</td>\n",
       "      <td>0</td>\n",
       "      <td>0</td>\n",
       "    </tr>\n",
       "    <tr>\n",
       "      <th>4</th>\n",
       "      <td>0.492063</td>\n",
       "      <td>1</td>\n",
       "      <td>1</td>\n",
       "      <td>1</td>\n",
       "      <td>0.166667</td>\n",
       "      <td>0.113761</td>\n",
       "      <td>0.583333</td>\n",
       "      <td>1</td>\n",
       "      <td>1</td>\n",
       "    </tr>\n",
       "  </tbody>\n",
       "</table>\n",
       "</div>"
      ],
      "text/plain": [
       "        Age  HomeOwner  Female  Married  HouseholdSize    Income  Education  \\\n",
       "0  0.523810          1       1        1       0.500000  0.306422   0.583333   \n",
       "1  0.444444          1       1        1       0.833333  0.763303   0.583333   \n",
       "2  0.587302          1       0        1       0.833333  0.234862   0.666667   \n",
       "3  0.507937          1       0        1       0.500000  0.025688   0.000000   \n",
       "4  0.492063          1       1        1       0.166667  0.113761   0.583333   \n",
       "\n",
       "   Church  Undecided  \n",
       "0       0          1  \n",
       "1       1          0  \n",
       "2       0          1  \n",
       "3       0          0  \n",
       "4       1          1  "
      ]
     },
     "execution_count": 5,
     "metadata": {},
     "output_type": "execute_result"
    }
   ],
   "source": [
    "mmScaler = MinMaxScaler()\n",
    "mmBlueRed_df = blueRed_df\n",
    "mmBlueRed_df[['Age', 'HouseholdSize', 'Income', 'Education']] = \\\n",
    "    mmScaler.fit_transform(blueRed_df[['Age', 'HouseholdSize', 'Income', 'Education']])\n",
    "mmBlueRed_df.head(5)"
   ]
  },
  {
   "cell_type": "code",
   "execution_count": 6,
   "metadata": {},
   "outputs": [
    {
     "name": "stdout",
     "output_type": "stream",
     "text": [
      "X_train:\n",
      "           Age  HomeOwner  Female  Married  HouseholdSize    Income  \\\n",
      "9069  0.492063          1       1        1       0.666667  0.174312   \n",
      "2603  0.365079          1       1        1       0.833333  0.187156   \n",
      "7738  0.523810          1       0        0       0.333333  0.144954   \n",
      "1579  0.301587          1       1        1       0.333333  0.029358   \n",
      "5058  0.682540          1       1        1       0.333333  0.236697   \n",
      "\n",
      "      Education  Church  \n",
      "9069   0.333333       0  \n",
      "2603   0.083333       1  \n",
      "7738   0.833333       0  \n",
      "1579   0.083333       1  \n",
      "5058   0.666667       1  \n",
      "y_train:\n",
      "9069    0\n",
      "2603    0\n",
      "7738    0\n",
      "1579    0\n",
      "5058    1\n",
      "Name: Undecided, dtype: int64\n",
      "X_test:\n",
      "           Age  HomeOwner  Female  Married  HouseholdSize    Income  \\\n",
      "6252  0.238095          1       1        1       0.833333  0.104587   \n",
      "4684  0.396825          1       0        1       0.333333  0.269725   \n",
      "1731  0.412698          1       1        1       0.333333  0.066055   \n",
      "4742  0.444444          1       0        1       0.500000  0.161468   \n",
      "4521  0.301587          1       1        1       0.833333  0.244037   \n",
      "\n",
      "      Education  Church  \n",
      "6252   0.333333       1  \n",
      "4684   0.583333       1  \n",
      "1731   0.833333       0  \n",
      "4742   0.583333       0  \n",
      "4521   0.583333       1  \n",
      "y_test:\n",
      "6252    0\n",
      "4684    1\n",
      "1731    1\n",
      "4742    1\n",
      "4521    1\n",
      "Name: Undecided, dtype: int64\n"
     ]
    }
   ],
   "source": [
    "undecided_df = mmBlueRed_df['Undecided']\n",
    "mmBlueRed_df = mmBlueRed_df.drop(columns = 'Undecided')\n",
    "X_train, X_test, y_train, y_test = train_test_split(mmBlueRed_df, undecided_df, test_size=0.3,random_state=42)\n",
    "print('X_train:')\n",
    "print(X_train.head(5))\n",
    "print('y_train:')\n",
    "print(y_train.head(5))\n",
    "print('X_test:')\n",
    "print(X_test.head(5))\n",
    "print('y_test:')\n",
    "print(y_test.head(5))"
   ]
  },
  {
   "cell_type": "code",
   "execution_count": 7,
   "metadata": {},
   "outputs": [
    {
     "name": "stdout",
     "output_type": "stream",
     "text": [
      "y_train_pred:\n",
      "[0 0 0 0 1 0 0 0 0 1 0 1 0 1 1 0 0 0 0 0 0 0 0 1 1 1 0 1 1 0 0 0 0 1 1 1 0\n",
      " 1 1 0 1 0 0 0 0 0 1 1 0 1 1 0 1 0 1 1 0 0 1 0 0 0 0 1 0 0 0 0 0 1 0 0 0 0\n",
      " 0 1 0 1 0 0 1 0 1 0 0 0 1 0 0 0 0 1 1 1 0 1 0 0 0 1]\n",
      "y_test_pred:\n",
      "[0 1 1 1 1 1 1 1 1 0 0 1 0 0 0 0 1 0 1 0 1 0 0 0 1 1 1 0 1 1 1 0 1 0 0 0 0\n",
      " 0 0 0 0 0 0 1 0 0 0 0 1 0 1 0 1 1 1 1 1 0 0 1 0 0 1 1 1 1 0 0 1 1 0 0 0 0\n",
      " 0 0 0 0 1 0 1 1 0 0 1 0 1 0 1 1 0 0 0 0 0 0 0 1 1 0]\n"
     ]
    }
   ],
   "source": [
    "blueRed_dtclf = tree.DecisionTreeClassifier()\n",
    "blueRed_dtclf.fit(X_train, y_train)\n",
    "y_train_pred = blueRed_dtclf.predict(X_train)\n",
    "y_test_pred = blueRed_dtclf.predict(X_test)\n",
    "print('y_train_pred:')\n",
    "print(y_train_pred[0:100])\n",
    "print('y_test_pred:')\n",
    "print(y_test_pred[0:100])"
   ]
  },
  {
   "cell_type": "code",
   "execution_count": 8,
   "metadata": {},
   "outputs": [
    {
     "data": {
      "text/plain": [
       "1.0"
      ]
     },
     "execution_count": 8,
     "metadata": {},
     "output_type": "execute_result"
    }
   ],
   "source": [
    "metrics.accuracy_score(y_train,y_train_pred)"
   ]
  },
  {
   "cell_type": "code",
   "execution_count": 9,
   "metadata": {},
   "outputs": [
    {
     "data": {
      "text/plain": [
       "0.9673333333333334"
      ]
     },
     "execution_count": 9,
     "metadata": {},
     "output_type": "execute_result"
    }
   ],
   "source": [
    "metrics.accuracy_score(y_test,y_test_pred)"
   ]
  },
  {
   "cell_type": "code",
   "execution_count": 10,
   "metadata": {},
   "outputs": [
    {
     "data": {
      "text/plain": [
       "1.0"
      ]
     },
     "execution_count": 10,
     "metadata": {},
     "output_type": "execute_result"
    }
   ],
   "source": [
    "blueRed_dtclf.score(X_train, y_train)"
   ]
  },
  {
   "cell_type": "code",
   "execution_count": 11,
   "metadata": {},
   "outputs": [
    {
     "data": {
      "text/plain": [
       "0.9673333333333334"
      ]
     },
     "execution_count": 11,
     "metadata": {},
     "output_type": "execute_result"
    }
   ],
   "source": [
    "blueRed_dtclf.score(X_test, y_test)"
   ]
  },
  {
   "cell_type": "code",
   "execution_count": 12,
   "metadata": {},
   "outputs": [
    {
     "data": {
      "text/plain": [
       "0.0"
      ]
     },
     "execution_count": 12,
     "metadata": {},
     "output_type": "execute_result"
    }
   ],
   "source": [
    "metrics.zero_one_loss(y_train, y_train_pred)"
   ]
  },
  {
   "cell_type": "code",
   "execution_count": 13,
   "metadata": {},
   "outputs": [
    {
     "data": {
      "text/plain": [
       "0.03266666666666662"
      ]
     },
     "execution_count": 13,
     "metadata": {},
     "output_type": "execute_result"
    }
   ],
   "source": [
    "metrics.zero_one_loss(y_test, y_test_pred)"
   ]
  },
  {
   "cell_type": "code",
   "execution_count": 14,
   "metadata": {},
   "outputs": [
    {
     "data": {
      "text/plain": [
       "1.0"
      ]
     },
     "execution_count": 14,
     "metadata": {},
     "output_type": "execute_result"
    }
   ],
   "source": [
    "metrics.recall_score(y_train, y_train_pred)"
   ]
  },
  {
   "cell_type": "code",
   "execution_count": 15,
   "metadata": {},
   "outputs": [
    {
     "data": {
      "text/plain": [
       "0.9637436762225969"
      ]
     },
     "execution_count": 15,
     "metadata": {},
     "output_type": "execute_result"
    }
   ],
   "source": [
    "metrics.recall_score(y_test, y_test_pred)"
   ]
  },
  {
   "cell_type": "code",
   "execution_count": 16,
   "metadata": {},
   "outputs": [
    {
     "data": {
      "text/plain": [
       "1.0"
      ]
     },
     "execution_count": 16,
     "metadata": {},
     "output_type": "execute_result"
    }
   ],
   "source": [
    "metrics.f1_score(y_train, y_train_pred)"
   ]
  },
  {
   "cell_type": "code",
   "execution_count": 17,
   "metadata": {},
   "outputs": [
    {
     "data": {
      "text/plain": [
       "0.9588926174496644"
      ]
     },
     "execution_count": 17,
     "metadata": {},
     "output_type": "execute_result"
    }
   ],
   "source": [
    "metrics.f1_score(y_test, y_test_pred)"
   ]
  },
  {
   "cell_type": "code",
   "execution_count": 18,
   "metadata": {},
   "outputs": [
    {
     "data": {
      "text/plain": [
       "<sklearn.metrics._plot.roc_curve.RocCurveDisplay at 0x26afe1ae208>"
      ]
     },
     "execution_count": 18,
     "metadata": {},
     "output_type": "execute_result"
    },
    {
     "data": {
      "image/png": "[encoded data removed]",
      "text/plain": [
       "<Figure size 432x288 with 1 Axes>"
      ]
     },
     "metadata": {
      "needs_background": "light"
     },
     "output_type": "display_data"
    }
   ],
   "source": [
    "metrics.plot_roc_curve(blueRed_dtclf, X_train, y_train)"
   ]
  },
  {
   "cell_type": "code",
   "execution_count": 19,
   "metadata": {},
   "outputs": [
    {
     "data": {
      "text/plain": [
       "<sklearn.metrics._plot.roc_curve.RocCurveDisplay at 0x26afe0e7908>"
      ]
     },
     "execution_count": 19,
     "metadata": {},
     "output_type": "execute_result"
    },
    {
     "data": {
      "image/png": "[encoded data removed]",
      "text/plain": [
       "<Figure size 432x288 with 1 Axes>"
      ]
     },
     "metadata": {
      "needs_background": "light"
     },
     "output_type": "display_data"
    }
   ],
   "source": [
    "metrics.plot_roc_curve(blueRed_dtclf, X_test, y_test)"
   ]
  },
  {
   "cell_type": "code",
   "execution_count": 20,
   "metadata": {},
   "outputs": [
    {
     "data": {
      "text/plain": [
       "<sklearn.metrics._plot.confusion_matrix.ConfusionMatrixDisplay at 0x26afe1e4388>"
      ]
     },
     "execution_count": 20,
     "metadata": {},
     "output_type": "execute_result"
    },
    {
     "data": {
      "image/png": "[encoded data removed]",
      "text/plain": [
       "<Figure size 432x288 with 2 Axes>"
      ]
     },
     "metadata": {
      "needs_background": "light"
     },
     "output_type": "display_data"
    }
   ],
   "source": [
    "metrics.plot_confusion_matrix(blueRed_dtclf, X_train, y_train)"
   ]
  },
  {
   "cell_type": "code",
   "execution_count": 21,
   "metadata": {},
   "outputs": [
    {
     "data": {
      "text/plain": [
       "<sklearn.metrics._plot.confusion_matrix.ConfusionMatrixDisplay at 0x26afe2f1348>"
      ]
     },
     "execution_count": 21,
     "metadata": {},
     "output_type": "execute_result"
    },
    {
     "data": {
      "image/png": "[encoded data removed]",
      "text/plain": [
       "<Figure size 432x288 with 2 Axes>"
      ]
     },
     "metadata": {
      "needs_background": "light"
     },
     "output_type": "display_data"
    }
   ],
   "source": [
    "metrics.plot_confusion_matrix(blueRed_dtclf, X_test, y_test)"
   ]
  },
  {
   "cell_type": "code",
   "execution_count": 22,
   "metadata": {},
   "outputs": [
    {
     "data": {
      "text/plain": [
       "18"
      ]
     },
     "execution_count": 22,
     "metadata": {},
     "output_type": "execute_result"
    }
   ],
   "source": [
    "blueRed_dtclf.tree_.max_depth"
   ]
  },
  {
   "cell_type": "code",
   "execution_count": 23,
   "metadata": {},
   "outputs": [
    {
     "name": "stdout",
     "output_type": "stream",
     "text": [
      "[1, 2, 3, 4, 5, 6, 7, 8, 9, 10, 11, 12, 13, 14, 15, 16, 17]\n",
      "[0.30614285714285716, 0.20114285714285718, 0.0814285714285714, 0.029571428571428582, 0.019857142857142907, 0.014857142857142902, 0.013714285714285679, 0.012428571428571455, 0.010285714285714231, 0.008571428571428563, 0.0071428571428571175, 0.005428571428571449, 0.004142857142857115, 0.002714285714285669, 0.0011428571428571122, 0.0004285714285714448, 0.00014285714285711126]\n",
      "16\n"
     ]
    }
   ],
   "source": [
    "depth = []\n",
    "errorRate = []\n",
    "for i in range(1, blueRed_dtclf.tree_.max_depth):\n",
    "    depthBlueRed_dtclf = tree.DecisionTreeClassifier(max_depth=i)\n",
    "    depthBlueRed_dtclf.fit(X_train, y_train)\n",
    "    y_train_pred_depth = depthBlueRed_dtclf.predict(X_train)\n",
    "    errorRate.append(metrics.zero_one_loss(y_train, y_train_pred_depth))\n",
    "    depth.append(i)\n",
    "print(depth)\n",
    "print(errorRate)\n",
    "print(np.argmin(errorRate))"
   ]
  },
  {
   "cell_type": "code",
   "execution_count": 24,
   "metadata": {},
   "outputs": [
    {
     "data": {
      "image/png": "[encoded data removed]",
      "text/plain": [
       "<Figure size 1008x504 with 1 Axes>"
      ]
     },
     "metadata": {
      "needs_background": "light"
     },
     "output_type": "display_data"
    }
   ],
   "source": [
    "plt.figure(figsize=(14, 7))\n",
    "plt.plot(depth, errorRate, c=\"cyan\");\n",
    "plt.xlabel(\"Maximum Depth\");\n",
    "plt.ylabel(\"Error Rate\");\n",
    "plt.show()"
   ]
  },
  {
   "cell_type": "code",
   "execution_count": 25,
   "metadata": {},
   "outputs": [
    {
     "data": {
      "text/plain": [
       "GridSearchCV(cv=8, error_score=nan,\n",
       "             estimator=DecisionTreeClassifier(ccp_alpha=0.0, class_weight=None,\n",
       "                                              criterion='gini', max_depth=None,\n",
       "                                              max_features=None,\n",
       "                                              max_leaf_nodes=None,\n",
       "                                              min_impurity_decrease=0.0,\n",
       "                                              min_impurity_split=None,\n",
       "                                              min_samples_leaf=1,\n",
       "                                              min_samples_split=2,\n",
       "                                              min_weight_fraction_leaf=0.0,\n",
       "                                              presort='deprecated',\n",
       "                                              random_state=None,\n",
       "                                              splitter='best'),\n",
       "             iid='deprecated', n_jobs=None,\n",
       "             param_grid=[{'max_depth': range(1, 18),\n",
       "                          'max_features': [0.2, 0.4, 0.6, 0.8]}],\n",
       "             pre_dispatch='2*n_jobs', refit=True, return_train_score=True,\n",
       "             scoring=None, verbose=0)"
      ]
     },
     "execution_count": 25,
     "metadata": {},
     "output_type": "execute_result"
    }
   ],
   "source": [
    "param_grid = [{\"max_depth\":range(1, blueRed_dtclf.tree_.max_depth), 'max_features':[0.2, 0.4, 0.6, 0.8]}]\n",
    "\n",
    "\n",
    "blueRed_dtclf_grid_search = GridSearchCV(blueRed_dtclf, param_grid, cv=8,\n",
    "                           return_train_score=True)\n",
    "\n",
    "blueRed_dtclf_grid_search.fit(X_train, y_train)"
   ]
  },
  {
   "cell_type": "code",
   "execution_count": 26,
   "metadata": {},
   "outputs": [
    {
     "name": "stdout",
     "output_type": "stream",
     "text": [
      "DecisionTreeClassifier(ccp_alpha=0.0, class_weight=None, criterion='gini',\n",
      "                       max_depth=6, max_features=0.8, max_leaf_nodes=None,\n",
      "                       min_impurity_decrease=0.0, min_impurity_split=None,\n",
      "                       min_samples_leaf=1, min_samples_split=2,\n",
      "                       min_weight_fraction_leaf=0.0, presort='deprecated',\n",
      "                       random_state=None, splitter='best')\n",
      "{'max_depth': 6, 'max_features': 0.8}\n"
     ]
    }
   ],
   "source": [
    "print(blueRed_dtclf_grid_search.best_estimator_)\n",
    "print(blueRed_dtclf_grid_search.best_params_)"
   ]
  },
  {
   "cell_type": "code",
   "execution_count": 45,
   "metadata": {},
   "outputs": [
    {
     "name": "stdout",
     "output_type": "stream",
     "text": [
      "[1, 2, 3, 4, 5, 6, 7, 8, 9, 10, 11, 12, 13, 14, 15, 16, 17]\n",
      "[0.036571428571428574, 0.037000000000000005, 0.03685714285714285, 0.0377142857142857, 0.03614285714285713, 0.036571428571428574, 0.03599999999999999, 0.03857142857142856, 0.03728571428571427, 0.03685714285714285, 0.03671428571428573, 0.035714285714285726, 0.03557142857142859, 0.037428571428571436, 0.036571428571428574, 0.03614285714285716, 0.03671428571428571]\n",
      "12\n"
     ]
    }
   ],
   "source": [
    "depth = []\n",
    "score_list = []\n",
    "for i in range(1, blueRed_dtclf.tree_.max_depth):\n",
    "    depthBlueRed_dtclf = tree.DecisionTreeClassifier(max_depth=i)\n",
    "    depthBlueRed_dtclf.fit(X_train, y_train)\n",
    "    score = cross_val_score(estimator=blueRed_dtclf, X=X_train, y=y_train, scoring='accuracy', cv=8)\n",
    "    score_list.append(np.mean(1-score))\n",
    "    depth.append(i)\n",
    "print(depth)\n",
    "print(score_list)\n",
    "print(np.argmin(score_list))"
   ]
  },
  {
   "cell_type": "code",
   "execution_count": 46,
   "metadata": {},
   "outputs": [
    {
     "data": {
      "image/png": "[encoded data removed]",
      "text/plain": [
       "<Figure size 1008x504 with 1 Axes>"
      ]
     },
     "metadata": {
      "needs_background": "light"
     },
     "output_type": "display_data"
    }
   ],
   "source": [
    "plt.figure(figsize=(14, 7))\n",
    "plt.plot(depth, score_list, c=\"cyan\");\n",
    "plt.xlabel(\"Maximum Depth\");\n",
    "plt.ylabel(\"Error Rate\");\n",
    "plt.show()"
   ]
  },
  {
   "cell_type": "code",
   "execution_count": 65,
   "metadata": {},
   "outputs": [],
   "source": [
    "train_acc, test_acc = validation_curve(blueRed_dtclf, X_train, y_train, param_name=\"max_depth\", param_range=range(1, blueRed_dtclf.tree_.max_depth), cv=8)\n",
    "train_acc_ave = np.mean(train_acc, axis=1)\n",
    "test_acc_ave =np.mean(test_acc, axis=1)"
   ]
  },
  {
   "cell_type": "code",
   "execution_count": 66,
   "metadata": {},
   "outputs": [
    {
     "data": {
      "image/png": "[encoded data removed]",
      "text/plain": [
       "<Figure size 1008x504 with 1 Axes>"
      ]
     },
     "metadata": {
      "needs_background": "light"
     },
     "output_type": "display_data"
    }
   ],
   "source": [
    "plt.figure(figsize=(14, 7))\n",
    "plt.xlabel(\"Maximum Depth\")\n",
    "plt.ylabel(\"Error Rate\")\n",
    "plt.plot(1-train_acc_ave, color=\"cyan\", lw=5)\n",
    "plt.plot(1-test_acc_ave, color=\"purple\", lw=5)\n",
    "plt.legend([\"Train\", \"Test\"])\n",
    "plt.show()"
   ]
  },
  {
   "cell_type": "code",
   "execution_count": 72,
   "metadata": {},
   "outputs": [
    {
     "name": "stdout",
     "output_type": "stream",
     "text": [
      "16\n",
      "5\n"
     ]
    }
   ],
   "source": [
    "print(np.argmin(1-train_acc_ave))\n",
    "print(np.argmin(1-test_acc_ave))"
   ]
  },
  {
   "cell_type": "code",
   "execution_count": null,
   "metadata": {},
   "outputs": [],
   "source": [
    "#Are decision trees and random forest good models for predicting ESRB ratings for video games?"
   ]
  },
  {
   "cell_type": "code",
   "execution_count": 166,
   "metadata": {},
   "outputs": [
    {
     "data": {
      "text/html": [
       "<div>\n",
       "<style scoped>\n",
       "    .dataframe tbody tr th:only-of-type {\n",
       "        vertical-align: middle;\n",
       "    }\n",
       "\n",
       "    .dataframe tbody tr th {\n",
       "        vertical-align: top;\n",
       "    }\n",
       "\n",
       "    .dataframe thead th {\n",
       "        text-align: right;\n",
       "    }\n",
       "</style>\n",
       "<table border=\"1\" class=\"dataframe\">\n",
       "  <thead>\n",
       "    <tr style=\"text-align: right;\">\n",
       "      <th></th>\n",
       "      <th>title</th>\n",
       "      <th>console</th>\n",
       "      <th>alcohol_reference</th>\n",
       "      <th>animated_blood</th>\n",
       "      <th>blood</th>\n",
       "      <th>blood_and_gore</th>\n",
       "      <th>cartoon_violence</th>\n",
       "      <th>crude_humor</th>\n",
       "      <th>drug_reference</th>\n",
       "      <th>fantasy_violence</th>\n",
       "      <th>...</th>\n",
       "      <th>sexual_content</th>\n",
       "      <th>sexual_themes</th>\n",
       "      <th>simulated_gambling</th>\n",
       "      <th>strong_janguage</th>\n",
       "      <th>strong_sexual_content</th>\n",
       "      <th>suggestive_themes</th>\n",
       "      <th>use_of_alcohol</th>\n",
       "      <th>use_of_drugs_and_alcohol</th>\n",
       "      <th>violence</th>\n",
       "      <th>esrb_rating</th>\n",
       "    </tr>\n",
       "  </thead>\n",
       "  <tbody>\n",
       "    <tr>\n",
       "      <th>0</th>\n",
       "      <td>Monster Jam Steel Titans 2</td>\n",
       "      <td>1</td>\n",
       "      <td>0</td>\n",
       "      <td>0</td>\n",
       "      <td>0</td>\n",
       "      <td>0</td>\n",
       "      <td>0</td>\n",
       "      <td>0</td>\n",
       "      <td>0</td>\n",
       "      <td>0</td>\n",
       "      <td>...</td>\n",
       "      <td>0</td>\n",
       "      <td>0</td>\n",
       "      <td>0</td>\n",
       "      <td>0</td>\n",
       "      <td>0</td>\n",
       "      <td>0</td>\n",
       "      <td>0</td>\n",
       "      <td>0</td>\n",
       "      <td>0</td>\n",
       "      <td>E</td>\n",
       "    </tr>\n",
       "    <tr>\n",
       "      <th>1</th>\n",
       "      <td>Subnautica: Below Zero</td>\n",
       "      <td>1</td>\n",
       "      <td>0</td>\n",
       "      <td>1</td>\n",
       "      <td>0</td>\n",
       "      <td>0</td>\n",
       "      <td>0</td>\n",
       "      <td>0</td>\n",
       "      <td>0</td>\n",
       "      <td>0</td>\n",
       "      <td>...</td>\n",
       "      <td>0</td>\n",
       "      <td>0</td>\n",
       "      <td>0</td>\n",
       "      <td>0</td>\n",
       "      <td>0</td>\n",
       "      <td>0</td>\n",
       "      <td>0</td>\n",
       "      <td>0</td>\n",
       "      <td>0</td>\n",
       "      <td>ET</td>\n",
       "    </tr>\n",
       "    <tr>\n",
       "      <th>2</th>\n",
       "      <td>NIER REPLICANT VER.1.22474487139…</td>\n",
       "      <td>1</td>\n",
       "      <td>0</td>\n",
       "      <td>0</td>\n",
       "      <td>1</td>\n",
       "      <td>0</td>\n",
       "      <td>0</td>\n",
       "      <td>0</td>\n",
       "      <td>0</td>\n",
       "      <td>0</td>\n",
       "      <td>...</td>\n",
       "      <td>0</td>\n",
       "      <td>0</td>\n",
       "      <td>0</td>\n",
       "      <td>1</td>\n",
       "      <td>0</td>\n",
       "      <td>1</td>\n",
       "      <td>0</td>\n",
       "      <td>0</td>\n",
       "      <td>0</td>\n",
       "      <td>M</td>\n",
       "    </tr>\n",
       "    <tr>\n",
       "      <th>3</th>\n",
       "      <td>Jamestown+</td>\n",
       "      <td>0</td>\n",
       "      <td>0</td>\n",
       "      <td>0</td>\n",
       "      <td>0</td>\n",
       "      <td>0</td>\n",
       "      <td>0</td>\n",
       "      <td>0</td>\n",
       "      <td>0</td>\n",
       "      <td>1</td>\n",
       "      <td>...</td>\n",
       "      <td>0</td>\n",
       "      <td>0</td>\n",
       "      <td>0</td>\n",
       "      <td>0</td>\n",
       "      <td>0</td>\n",
       "      <td>0</td>\n",
       "      <td>0</td>\n",
       "      <td>0</td>\n",
       "      <td>0</td>\n",
       "      <td>ET</td>\n",
       "    </tr>\n",
       "    <tr>\n",
       "      <th>4</th>\n",
       "      <td>Neptunia Virtual Stars</td>\n",
       "      <td>0</td>\n",
       "      <td>0</td>\n",
       "      <td>0</td>\n",
       "      <td>0</td>\n",
       "      <td>0</td>\n",
       "      <td>0</td>\n",
       "      <td>0</td>\n",
       "      <td>0</td>\n",
       "      <td>1</td>\n",
       "      <td>...</td>\n",
       "      <td>0</td>\n",
       "      <td>0</td>\n",
       "      <td>0</td>\n",
       "      <td>0</td>\n",
       "      <td>0</td>\n",
       "      <td>1</td>\n",
       "      <td>0</td>\n",
       "      <td>0</td>\n",
       "      <td>0</td>\n",
       "      <td>T</td>\n",
       "    </tr>\n",
       "  </tbody>\n",
       "</table>\n",
       "<p>5 rows × 34 columns</p>\n",
       "</div>"
      ],
      "text/plain": [
       "                               title  console  alcohol_reference  \\\n",
       "0         Monster Jam Steel Titans 2        1                  0   \n",
       "1             Subnautica: Below Zero        1                  0   \n",
       "2  NIER REPLICANT VER.1.22474487139…        1                  0   \n",
       "3                         Jamestown+        0                  0   \n",
       "4             Neptunia Virtual Stars        0                  0   \n",
       "\n",
       "   animated_blood  blood  blood_and_gore  cartoon_violence  crude_humor  \\\n",
       "0               0      0               0                 0            0   \n",
       "1               1      0               0                 0            0   \n",
       "2               0      1               0                 0            0   \n",
       "3               0      0               0                 0            0   \n",
       "4               0      0               0                 0            0   \n",
       "\n",
       "   drug_reference  fantasy_violence  ...  sexual_content  sexual_themes  \\\n",
       "0               0                 0  ...               0              0   \n",
       "1               0                 0  ...               0              0   \n",
       "2               0                 0  ...               0              0   \n",
       "3               0                 1  ...               0              0   \n",
       "4               0                 1  ...               0              0   \n",
       "\n",
       "   simulated_gambling  strong_janguage  strong_sexual_content  \\\n",
       "0                   0                0                      0   \n",
       "1                   0                0                      0   \n",
       "2                   0                1                      0   \n",
       "3                   0                0                      0   \n",
       "4                   0                0                      0   \n",
       "\n",
       "   suggestive_themes  use_of_alcohol  use_of_drugs_and_alcohol  violence  \\\n",
       "0                  0               0                         0         0   \n",
       "1                  0               0                         0         0   \n",
       "2                  1               0                         0         0   \n",
       "3                  0               0                         0         0   \n",
       "4                  1               0                         0         0   \n",
       "\n",
       "   esrb_rating  \n",
       "0            E  \n",
       "1           ET  \n",
       "2            M  \n",
       "3           ET  \n",
       "4            T  \n",
       "\n",
       "[5 rows x 34 columns]"
      ]
     },
     "execution_count": 166,
     "metadata": {},
     "output_type": "execute_result"
    }
   ],
   "source": [
    "esrb_df = pd.read_csv('video_games_esrb_rating.csv')\n",
    "esrb_df.head(5)"
   ]
  },
  {
   "cell_type": "code",
   "execution_count": 167,
   "metadata": {},
   "outputs": [
    {
     "name": "stdout",
     "output_type": "stream",
     "text": [
      "<class 'pandas.core.frame.DataFrame'>\n",
      "RangeIndex: 1895 entries, 0 to 1894\n",
      "Data columns (total 34 columns):\n",
      " #   Column                    Non-Null Count  Dtype \n",
      "---  ------                    --------------  ----- \n",
      " 0   title                     1895 non-null   object\n",
      " 1   console                   1895 non-null   int64 \n",
      " 2   alcohol_reference         1895 non-null   int64 \n",
      " 3   animated_blood            1895 non-null   int64 \n",
      " 4   blood                     1895 non-null   int64 \n",
      " 5   blood_and_gore            1895 non-null   int64 \n",
      " 6   cartoon_violence          1895 non-null   int64 \n",
      " 7   crude_humor               1895 non-null   int64 \n",
      " 8   drug_reference            1895 non-null   int64 \n",
      " 9   fantasy_violence          1895 non-null   int64 \n",
      " 10  intense_violence          1895 non-null   int64 \n",
      " 11  language                  1895 non-null   int64 \n",
      " 12  lyrics                    1895 non-null   int64 \n",
      " 13  mature_humor              1895 non-null   int64 \n",
      " 14  mild_blood                1895 non-null   int64 \n",
      " 15  mild_cartoon_violence     1895 non-null   int64 \n",
      " 16  mild_fantasy_violence     1895 non-null   int64 \n",
      " 17  mild_language             1895 non-null   int64 \n",
      " 18  mild_lyrics               1895 non-null   int64 \n",
      " 19  mild_suggestive_themes    1895 non-null   int64 \n",
      " 20  mild_violence             1895 non-null   int64 \n",
      " 21  no_descriptors            1895 non-null   int64 \n",
      " 22  nudity                    1895 non-null   int64 \n",
      " 23  partial_nudity            1895 non-null   int64 \n",
      " 24  sexual_content            1895 non-null   int64 \n",
      " 25  sexual_themes             1895 non-null   int64 \n",
      " 26  simulated_gambling        1895 non-null   int64 \n",
      " 27  strong_janguage           1895 non-null   int64 \n",
      " 28  strong_sexual_content     1895 non-null   int64 \n",
      " 29  suggestive_themes         1895 non-null   int64 \n",
      " 30  use_of_alcohol            1895 non-null   int64 \n",
      " 31  use_of_drugs_and_alcohol  1895 non-null   int64 \n",
      " 32  violence                  1895 non-null   int64 \n",
      " 33  esrb_rating               1895 non-null   object\n",
      "dtypes: int64(32), object(2)\n",
      "memory usage: 503.5+ KB\n"
     ]
    },
    {
     "data": {
      "text/plain": [
       "title                       0\n",
       "console                     0\n",
       "alcohol_reference           0\n",
       "animated_blood              0\n",
       "blood                       0\n",
       "blood_and_gore              0\n",
       "cartoon_violence            0\n",
       "crude_humor                 0\n",
       "drug_reference              0\n",
       "fantasy_violence            0\n",
       "intense_violence            0\n",
       "language                    0\n",
       "lyrics                      0\n",
       "mature_humor                0\n",
       "mild_blood                  0\n",
       "mild_cartoon_violence       0\n",
       "mild_fantasy_violence       0\n",
       "mild_language               0\n",
       "mild_lyrics                 0\n",
       "mild_suggestive_themes      0\n",
       "mild_violence               0\n",
       "no_descriptors              0\n",
       "nudity                      0\n",
       "partial_nudity              0\n",
       "sexual_content              0\n",
       "sexual_themes               0\n",
       "simulated_gambling          0\n",
       "strong_janguage             0\n",
       "strong_sexual_content       0\n",
       "suggestive_themes           0\n",
       "use_of_alcohol              0\n",
       "use_of_drugs_and_alcohol    0\n",
       "violence                    0\n",
       "esrb_rating                 0\n",
       "dtype: int64"
      ]
     },
     "execution_count": 167,
     "metadata": {},
     "output_type": "execute_result"
    }
   ],
   "source": [
    "esrb_df.info()\n",
    "esrb_df.isnull().sum()"
   ]
  },
  {
   "cell_type": "code",
   "execution_count": 168,
   "metadata": {},
   "outputs": [
    {
     "data": {
      "text/html": [
       "<div>\n",
       "<style scoped>\n",
       "    .dataframe tbody tr th:only-of-type {\n",
       "        vertical-align: middle;\n",
       "    }\n",
       "\n",
       "    .dataframe tbody tr th {\n",
       "        vertical-align: top;\n",
       "    }\n",
       "\n",
       "    .dataframe thead th {\n",
       "        text-align: right;\n",
       "    }\n",
       "</style>\n",
       "<table border=\"1\" class=\"dataframe\">\n",
       "  <thead>\n",
       "    <tr style=\"text-align: right;\">\n",
       "      <th></th>\n",
       "      <th>alcohol_reference</th>\n",
       "      <th>animated_blood</th>\n",
       "      <th>blood</th>\n",
       "      <th>blood_and_gore</th>\n",
       "      <th>cartoon_violence</th>\n",
       "      <th>crude_humor</th>\n",
       "      <th>drug_reference</th>\n",
       "      <th>fantasy_violence</th>\n",
       "      <th>intense_violence</th>\n",
       "      <th>language</th>\n",
       "      <th>...</th>\n",
       "      <th>strong_janguage</th>\n",
       "      <th>strong_sexual_content</th>\n",
       "      <th>suggestive_themes</th>\n",
       "      <th>use_of_alcohol</th>\n",
       "      <th>use_of_drugs_and_alcohol</th>\n",
       "      <th>violence</th>\n",
       "      <th>esrb_rating_E</th>\n",
       "      <th>esrb_rating_ET</th>\n",
       "      <th>esrb_rating_M</th>\n",
       "      <th>esrb_rating_T</th>\n",
       "    </tr>\n",
       "  </thead>\n",
       "  <tbody>\n",
       "    <tr>\n",
       "      <th>0</th>\n",
       "      <td>0</td>\n",
       "      <td>0</td>\n",
       "      <td>0</td>\n",
       "      <td>0</td>\n",
       "      <td>0</td>\n",
       "      <td>0</td>\n",
       "      <td>0</td>\n",
       "      <td>0</td>\n",
       "      <td>0</td>\n",
       "      <td>0</td>\n",
       "      <td>...</td>\n",
       "      <td>0</td>\n",
       "      <td>0</td>\n",
       "      <td>0</td>\n",
       "      <td>0</td>\n",
       "      <td>0</td>\n",
       "      <td>0</td>\n",
       "      <td>1</td>\n",
       "      <td>0</td>\n",
       "      <td>0</td>\n",
       "      <td>0</td>\n",
       "    </tr>\n",
       "    <tr>\n",
       "      <th>1</th>\n",
       "      <td>0</td>\n",
       "      <td>1</td>\n",
       "      <td>0</td>\n",
       "      <td>0</td>\n",
       "      <td>0</td>\n",
       "      <td>0</td>\n",
       "      <td>0</td>\n",
       "      <td>0</td>\n",
       "      <td>1</td>\n",
       "      <td>0</td>\n",
       "      <td>...</td>\n",
       "      <td>0</td>\n",
       "      <td>0</td>\n",
       "      <td>0</td>\n",
       "      <td>0</td>\n",
       "      <td>0</td>\n",
       "      <td>0</td>\n",
       "      <td>0</td>\n",
       "      <td>1</td>\n",
       "      <td>0</td>\n",
       "      <td>0</td>\n",
       "    </tr>\n",
       "    <tr>\n",
       "      <th>2</th>\n",
       "      <td>0</td>\n",
       "      <td>0</td>\n",
       "      <td>1</td>\n",
       "      <td>0</td>\n",
       "      <td>0</td>\n",
       "      <td>0</td>\n",
       "      <td>0</td>\n",
       "      <td>0</td>\n",
       "      <td>0</td>\n",
       "      <td>0</td>\n",
       "      <td>...</td>\n",
       "      <td>1</td>\n",
       "      <td>0</td>\n",
       "      <td>1</td>\n",
       "      <td>0</td>\n",
       "      <td>0</td>\n",
       "      <td>0</td>\n",
       "      <td>0</td>\n",
       "      <td>0</td>\n",
       "      <td>1</td>\n",
       "      <td>0</td>\n",
       "    </tr>\n",
       "    <tr>\n",
       "      <th>3</th>\n",
       "      <td>0</td>\n",
       "      <td>0</td>\n",
       "      <td>0</td>\n",
       "      <td>0</td>\n",
       "      <td>0</td>\n",
       "      <td>0</td>\n",
       "      <td>0</td>\n",
       "      <td>1</td>\n",
       "      <td>0</td>\n",
       "      <td>1</td>\n",
       "      <td>...</td>\n",
       "      <td>0</td>\n",
       "      <td>0</td>\n",
       "      <td>0</td>\n",
       "      <td>0</td>\n",
       "      <td>0</td>\n",
       "      <td>0</td>\n",
       "      <td>0</td>\n",
       "      <td>1</td>\n",
       "      <td>0</td>\n",
       "      <td>0</td>\n",
       "    </tr>\n",
       "    <tr>\n",
       "      <th>4</th>\n",
       "      <td>0</td>\n",
       "      <td>0</td>\n",
       "      <td>0</td>\n",
       "      <td>0</td>\n",
       "      <td>0</td>\n",
       "      <td>0</td>\n",
       "      <td>0</td>\n",
       "      <td>1</td>\n",
       "      <td>0</td>\n",
       "      <td>1</td>\n",
       "      <td>...</td>\n",
       "      <td>0</td>\n",
       "      <td>0</td>\n",
       "      <td>1</td>\n",
       "      <td>0</td>\n",
       "      <td>0</td>\n",
       "      <td>0</td>\n",
       "      <td>0</td>\n",
       "      <td>0</td>\n",
       "      <td>0</td>\n",
       "      <td>1</td>\n",
       "    </tr>\n",
       "    <tr>\n",
       "      <th>...</th>\n",
       "      <td>...</td>\n",
       "      <td>...</td>\n",
       "      <td>...</td>\n",
       "      <td>...</td>\n",
       "      <td>...</td>\n",
       "      <td>...</td>\n",
       "      <td>...</td>\n",
       "      <td>...</td>\n",
       "      <td>...</td>\n",
       "      <td>...</td>\n",
       "      <td>...</td>\n",
       "      <td>...</td>\n",
       "      <td>...</td>\n",
       "      <td>...</td>\n",
       "      <td>...</td>\n",
       "      <td>...</td>\n",
       "      <td>...</td>\n",
       "      <td>...</td>\n",
       "      <td>...</td>\n",
       "      <td>...</td>\n",
       "      <td>...</td>\n",
       "    </tr>\n",
       "    <tr>\n",
       "      <th>1890</th>\n",
       "      <td>0</td>\n",
       "      <td>0</td>\n",
       "      <td>0</td>\n",
       "      <td>0</td>\n",
       "      <td>0</td>\n",
       "      <td>0</td>\n",
       "      <td>0</td>\n",
       "      <td>1</td>\n",
       "      <td>0</td>\n",
       "      <td>0</td>\n",
       "      <td>...</td>\n",
       "      <td>1</td>\n",
       "      <td>0</td>\n",
       "      <td>0</td>\n",
       "      <td>0</td>\n",
       "      <td>0</td>\n",
       "      <td>0</td>\n",
       "      <td>0</td>\n",
       "      <td>0</td>\n",
       "      <td>1</td>\n",
       "      <td>0</td>\n",
       "    </tr>\n",
       "    <tr>\n",
       "      <th>1891</th>\n",
       "      <td>0</td>\n",
       "      <td>0</td>\n",
       "      <td>0</td>\n",
       "      <td>0</td>\n",
       "      <td>0</td>\n",
       "      <td>0</td>\n",
       "      <td>0</td>\n",
       "      <td>1</td>\n",
       "      <td>0</td>\n",
       "      <td>1</td>\n",
       "      <td>...</td>\n",
       "      <td>0</td>\n",
       "      <td>0</td>\n",
       "      <td>0</td>\n",
       "      <td>0</td>\n",
       "      <td>0</td>\n",
       "      <td>0</td>\n",
       "      <td>0</td>\n",
       "      <td>0</td>\n",
       "      <td>0</td>\n",
       "      <td>1</td>\n",
       "    </tr>\n",
       "    <tr>\n",
       "      <th>1892</th>\n",
       "      <td>0</td>\n",
       "      <td>0</td>\n",
       "      <td>0</td>\n",
       "      <td>0</td>\n",
       "      <td>0</td>\n",
       "      <td>0</td>\n",
       "      <td>0</td>\n",
       "      <td>0</td>\n",
       "      <td>0</td>\n",
       "      <td>0</td>\n",
       "      <td>...</td>\n",
       "      <td>0</td>\n",
       "      <td>0</td>\n",
       "      <td>0</td>\n",
       "      <td>0</td>\n",
       "      <td>0</td>\n",
       "      <td>0</td>\n",
       "      <td>1</td>\n",
       "      <td>0</td>\n",
       "      <td>0</td>\n",
       "      <td>0</td>\n",
       "    </tr>\n",
       "    <tr>\n",
       "      <th>1893</th>\n",
       "      <td>0</td>\n",
       "      <td>0</td>\n",
       "      <td>1</td>\n",
       "      <td>0</td>\n",
       "      <td>0</td>\n",
       "      <td>0</td>\n",
       "      <td>0</td>\n",
       "      <td>0</td>\n",
       "      <td>0</td>\n",
       "      <td>0</td>\n",
       "      <td>...</td>\n",
       "      <td>0</td>\n",
       "      <td>0</td>\n",
       "      <td>0</td>\n",
       "      <td>0</td>\n",
       "      <td>0</td>\n",
       "      <td>0</td>\n",
       "      <td>0</td>\n",
       "      <td>0</td>\n",
       "      <td>0</td>\n",
       "      <td>1</td>\n",
       "    </tr>\n",
       "    <tr>\n",
       "      <th>1894</th>\n",
       "      <td>0</td>\n",
       "      <td>0</td>\n",
       "      <td>0</td>\n",
       "      <td>0</td>\n",
       "      <td>0</td>\n",
       "      <td>0</td>\n",
       "      <td>0</td>\n",
       "      <td>0</td>\n",
       "      <td>0</td>\n",
       "      <td>0</td>\n",
       "      <td>...</td>\n",
       "      <td>0</td>\n",
       "      <td>0</td>\n",
       "      <td>0</td>\n",
       "      <td>0</td>\n",
       "      <td>0</td>\n",
       "      <td>0</td>\n",
       "      <td>1</td>\n",
       "      <td>0</td>\n",
       "      <td>0</td>\n",
       "      <td>0</td>\n",
       "    </tr>\n",
       "  </tbody>\n",
       "</table>\n",
       "<p>1895 rows × 34 columns</p>\n",
       "</div>"
      ],
      "text/plain": [
       "      alcohol_reference  animated_blood  blood  blood_and_gore  \\\n",
       "0                     0               0      0               0   \n",
       "1                     0               1      0               0   \n",
       "2                     0               0      1               0   \n",
       "3                     0               0      0               0   \n",
       "4                     0               0      0               0   \n",
       "...                 ...             ...    ...             ...   \n",
       "1890                  0               0      0               0   \n",
       "1891                  0               0      0               0   \n",
       "1892                  0               0      0               0   \n",
       "1893                  0               0      1               0   \n",
       "1894                  0               0      0               0   \n",
       "\n",
       "      cartoon_violence  crude_humor  drug_reference  fantasy_violence  \\\n",
       "0                    0            0               0                 0   \n",
       "1                    0            0               0                 0   \n",
       "2                    0            0               0                 0   \n",
       "3                    0            0               0                 1   \n",
       "4                    0            0               0                 1   \n",
       "...                ...          ...             ...               ...   \n",
       "1890                 0            0               0                 1   \n",
       "1891                 0            0               0                 1   \n",
       "1892                 0            0               0                 0   \n",
       "1893                 0            0               0                 0   \n",
       "1894                 0            0               0                 0   \n",
       "\n",
       "      intense_violence  language  ...  strong_janguage  strong_sexual_content  \\\n",
       "0                    0         0  ...                0                      0   \n",
       "1                    1         0  ...                0                      0   \n",
       "2                    0         0  ...                1                      0   \n",
       "3                    0         1  ...                0                      0   \n",
       "4                    0         1  ...                0                      0   \n",
       "...                ...       ...  ...              ...                    ...   \n",
       "1890                 0         0  ...                1                      0   \n",
       "1891                 0         1  ...                0                      0   \n",
       "1892                 0         0  ...                0                      0   \n",
       "1893                 0         0  ...                0                      0   \n",
       "1894                 0         0  ...                0                      0   \n",
       "\n",
       "      suggestive_themes  use_of_alcohol  use_of_drugs_and_alcohol  violence  \\\n",
       "0                     0               0                         0         0   \n",
       "1                     0               0                         0         0   \n",
       "2                     1               0                         0         0   \n",
       "3                     0               0                         0         0   \n",
       "4                     1               0                         0         0   \n",
       "...                 ...             ...                       ...       ...   \n",
       "1890                  0               0                         0         0   \n",
       "1891                  0               0                         0         0   \n",
       "1892                  0               0                         0         0   \n",
       "1893                  0               0                         0         0   \n",
       "1894                  0               0                         0         0   \n",
       "\n",
       "      esrb_rating_E  esrb_rating_ET  esrb_rating_M  esrb_rating_T  \n",
       "0                 1               0              0              0  \n",
       "1                 0               1              0              0  \n",
       "2                 0               0              1              0  \n",
       "3                 0               1              0              0  \n",
       "4                 0               0              0              1  \n",
       "...             ...             ...            ...            ...  \n",
       "1890              0               0              1              0  \n",
       "1891              0               0              0              1  \n",
       "1892              1               0              0              0  \n",
       "1893              0               0              0              1  \n",
       "1894              1               0              0              0  \n",
       "\n",
       "[1895 rows x 34 columns]"
      ]
     },
     "execution_count": 168,
     "metadata": {},
     "output_type": "execute_result"
    }
   ],
   "source": [
    "esrb_df=pd.get_dummies(esrb_df, columns=['esrb_rating'])\n",
    "esrb_df=esrb_df.drop(columns = ['title', 'console', 'no_descriptors'])\n",
    "esrb_df"
   ]
  },
  {
   "cell_type": "code",
   "execution_count": 169,
   "metadata": {},
   "outputs": [
    {
     "name": "stdout",
     "output_type": "stream",
     "text": [
      "X_train:\n",
      "      alcohol_reference  animated_blood  blood  blood_and_gore  \\\n",
      "1430                  0               0      1               0   \n",
      "1093                  0               0      0               0   \n",
      "219                   0               0      0               0   \n",
      "577                   0               0      0               0   \n",
      "1367                  0               0      0               0   \n",
      "\n",
      "      cartoon_violence  crude_humor  drug_reference  fantasy_violence  \\\n",
      "1430                 0            0               0                 0   \n",
      "1093                 0            0               0                 0   \n",
      "219                  0            0               0                 1   \n",
      "577                  0            0               0                 0   \n",
      "1367                 0            0               0                 0   \n",
      "\n",
      "      intense_violence  language  ...  partial_nudity  sexual_content  \\\n",
      "1430                 0         0  ...               0               0   \n",
      "1093                 0         0  ...               0               0   \n",
      "219                  0         0  ...               0               0   \n",
      "577                  0         0  ...               0               0   \n",
      "1367                 0         0  ...               0               0   \n",
      "\n",
      "      sexual_themes  simulated_gambling  strong_janguage  \\\n",
      "1430              0                   0                0   \n",
      "1093              0                   0                0   \n",
      "219               0                   0                0   \n",
      "577               0                   1                0   \n",
      "1367              0                   0                0   \n",
      "\n",
      "      strong_sexual_content  suggestive_themes  use_of_alcohol  \\\n",
      "1430                      0                  0               0   \n",
      "1093                      0                  0               0   \n",
      "219                       0                  0               0   \n",
      "577                       0                  0               0   \n",
      "1367                      0                  0               0   \n",
      "\n",
      "      use_of_drugs_and_alcohol  violence  \n",
      "1430                         0         0  \n",
      "1093                         0         0  \n",
      "219                          0         0  \n",
      "577                          0         0  \n",
      "1367                         0         0  \n",
      "\n",
      "[5 rows x 30 columns]\n",
      "y_train:\n",
      "      esrb_rating_E  esrb_rating_ET  esrb_rating_M  esrb_rating_T\n",
      "1430              0               0              0              1\n",
      "1093              1               0              0              0\n",
      "219               0               1              0              0\n",
      "577               0               0              0              1\n",
      "1367              0               0              0              1\n",
      "X_test:\n",
      "      alcohol_reference  animated_blood  blood  blood_and_gore  \\\n",
      "1724                  0               0      0               0   \n",
      "719                   0               0      1               0   \n",
      "22                    0               0      0               0   \n",
      "1433                  0               0      0               0   \n",
      "1152                  0               0      0               0   \n",
      "\n",
      "      cartoon_violence  crude_humor  drug_reference  fantasy_violence  \\\n",
      "1724                 0            0               0                 0   \n",
      "719                  0            0               0                 0   \n",
      "22                   0            0               0                 1   \n",
      "1433                 0            0               0                 0   \n",
      "1152                 0            0               0                 1   \n",
      "\n",
      "      intense_violence  language  ...  partial_nudity  sexual_content  \\\n",
      "1724                 0         0  ...               0               0   \n",
      "719                  0         0  ...               0               0   \n",
      "22                   0         0  ...               0               0   \n",
      "1433                 0         0  ...               0               0   \n",
      "1152                 0         0  ...               0               0   \n",
      "\n",
      "      sexual_themes  simulated_gambling  strong_janguage  \\\n",
      "1724              0                   0                0   \n",
      "719               0                   0                0   \n",
      "22                0                   0                0   \n",
      "1433              0                   0                0   \n",
      "1152              0                   0                0   \n",
      "\n",
      "      strong_sexual_content  suggestive_themes  use_of_alcohol  \\\n",
      "1724                      0                  0               0   \n",
      "719                       0                  0               0   \n",
      "22                        0                  0               0   \n",
      "1433                      0                  0               0   \n",
      "1152                      0                  0               0   \n",
      "\n",
      "      use_of_drugs_and_alcohol  violence  \n",
      "1724                         0         0  \n",
      "719                          0         0  \n",
      "22                           0         0  \n",
      "1433                         0         1  \n",
      "1152                         0         0  \n",
      "\n",
      "[5 rows x 30 columns]\n",
      "y_test:\n",
      "      esrb_rating_E  esrb_rating_ET  esrb_rating_M  esrb_rating_T\n",
      "1724              1               0              0              0\n",
      "719               0               0              0              1\n",
      "22                0               0              0              1\n",
      "1433              0               0              0              1\n",
      "1152              0               0              0              1\n"
     ]
    }
   ],
   "source": [
    "esrbRatings_df = esrb_df[['esrb_rating_E', 'esrb_rating_ET', 'esrb_rating_M', 'esrb_rating_T']]\n",
    "esrb_df = esrb_df.drop(columns = ['esrb_rating_E', 'esrb_rating_ET', 'esrb_rating_M', 'esrb_rating_T'])\n",
    "X_train, X_test, y_train, y_test = train_test_split(esrb_df, esrbRatings_df, test_size=0.3,random_state=52637)\n",
    "print('X_train:')\n",
    "print(X_train.head(5))\n",
    "print('y_train:')\n",
    "print(y_train.head(5))\n",
    "print('X_test:')\n",
    "print(X_test.head(5))\n",
    "print('y_test:')\n",
    "print(y_test.head(5))"
   ]
  },
  {
   "cell_type": "code",
   "execution_count": 170,
   "metadata": {},
   "outputs": [
    {
     "name": "stdout",
     "output_type": "stream",
     "text": [
      "y_train_pred:\n",
      "[[0 0 0 1]\n",
      " [1 0 0 0]\n",
      " [0 1 0 0]\n",
      " [0 0 0 1]\n",
      " [0 0 0 0]\n",
      " [0 1 0 0]\n",
      " [0 0 0 1]\n",
      " [0 1 0 0]\n",
      " [0 1 0 0]\n",
      " [0 0 0 0]]\n"
     ]
    }
   ],
   "source": [
    "esrb_dtclf = tree.DecisionTreeClassifier()\n",
    "esrb_dtclf.fit(X_train, y_train)\n",
    "y_train_pred_dt = esrb_dtclf.predict(X_train)\n",
    "print('y_train_pred:')\n",
    "print(y_train_pred[0:10])"
   ]
  },
  {
   "cell_type": "code",
   "execution_count": 172,
   "metadata": {},
   "outputs": [
    {
     "name": "stdout",
     "output_type": "stream",
     "text": [
      "0.9072398190045249\n",
      "0.09276018099547512\n",
      "              precision    recall  f1-score   support\n",
      "\n",
      "           0       0.97      0.98      0.97       290\n",
      "           1       0.89      0.87      0.88       287\n",
      "           2       0.94      0.92      0.93       271\n",
      "           3       0.91      0.88      0.90       478\n",
      "\n",
      "   micro avg       0.93      0.91      0.92      1326\n",
      "   macro avg       0.93      0.91      0.92      1326\n",
      "weighted avg       0.93      0.91      0.92      1326\n",
      " samples avg       0.91      0.91      0.91      1326\n",
      "\n"
     ]
    }
   ],
   "source": [
    "print(metrics.accuracy_score(y_train,y_train_pred_dt))\n",
    "print(metrics.zero_one_loss(y_train, y_train_pred_dt))\n",
    "print(metrics.classification_report(y_train, y_train_pred_dt))"
   ]
  },
  {
   "cell_type": "code",
   "execution_count": 195,
   "metadata": {},
   "outputs": [
    {
     "name": "stdout",
     "output_type": "stream",
     "text": [
      "y_train_pred:\n",
      "[[0 0 0 1]\n",
      " [1 0 0 0]\n",
      " [0 1 0 0]\n",
      " [0 0 0 1]\n",
      " [0 0 0 0]\n",
      " [0 1 0 0]\n",
      " [0 0 0 1]\n",
      " [0 1 0 0]\n",
      " [0 1 0 0]\n",
      " [0 0 0 0]]\n"
     ]
    }
   ],
   "source": [
    "esrb_rfclf = RandomForestClassifier(n_estimators=500, random_state=52637)\n",
    "esrb_rfclf.fit(X_train, y_train)\n",
    "y_train_pred_rf = esrb_dtclf.predict(X_train)\n",
    "print('y_train_pred:')\n",
    "print(y_train_pred[0:10])"
   ]
  },
  {
   "cell_type": "code",
   "execution_count": 197,
   "metadata": {},
   "outputs": [
    {
     "name": "stdout",
     "output_type": "stream",
     "text": [
      "0.9072398190045249\n",
      "0.09276018099547512\n",
      "              precision    recall  f1-score   support\n",
      "\n",
      "           0       0.97      0.98      0.97       290\n",
      "           1       0.89      0.87      0.88       287\n",
      "           2       0.94      0.92      0.93       271\n",
      "           3       0.91      0.88      0.90       478\n",
      "\n",
      "   micro avg       0.93      0.91      0.92      1326\n",
      "   macro avg       0.93      0.91      0.92      1326\n",
      "weighted avg       0.93      0.91      0.92      1326\n",
      " samples avg       0.91      0.91      0.91      1326\n",
      "\n"
     ]
    }
   ],
   "source": [
    "print(metrics.accuracy_score(y_train,y_train_pred_rf))\n",
    "print(metrics.zero_one_loss(y_train, y_train_pred_rf))\n",
    "print(metrics.classification_report(y_train, y_train_pred_rf))"
   ]
  },
  {
   "cell_type": "code",
   "execution_count": 176,
   "metadata": {},
   "outputs": [
    {
     "name": "stdout",
     "output_type": "stream",
     "text": [
      "dt\n",
      "{'ccp_alpha': 0.0, 'class_weight': None, 'criterion': 'gini', 'max_depth': None, 'max_features': None, 'max_leaf_nodes': None, 'min_impurity_decrease': 0.0, 'min_impurity_split': None, 'min_samples_leaf': 1, 'min_samples_split': 2, 'min_weight_fraction_leaf': 0.0, 'presort': 'deprecated', 'random_state': None, 'splitter': 'best'}\n",
      "rf\n",
      "{'bootstrap': True, 'ccp_alpha': 0.0, 'class_weight': None, 'criterion': 'gini', 'max_depth': None, 'max_features': 'auto', 'max_leaf_nodes': None, 'max_samples': None, 'min_impurity_decrease': 0.0, 'min_impurity_split': None, 'min_samples_leaf': 1, 'min_samples_split': 2, 'min_weight_fraction_leaf': 0.0, 'n_estimators': 1000, 'n_jobs': None, 'oob_score': False, 'random_state': 52637, 'verbose': 0, 'warm_start': False}\n"
     ]
    }
   ],
   "source": [
    "print('dt')\n",
    "print(esrb_dtclf.get_params())\n",
    "print('rf')\n",
    "print(esrb_rfclf.get_params())"
   ]
  },
  {
   "cell_type": "code",
   "execution_count": 188,
   "metadata": {},
   "outputs": [
    {
     "data": {
      "text/plain": [
       "GridSearchCV(cv=8, error_score=nan,\n",
       "             estimator=DecisionTreeClassifier(ccp_alpha=0.0, class_weight=None,\n",
       "                                              criterion='gini', max_depth=None,\n",
       "                                              max_features=None,\n",
       "                                              max_leaf_nodes=None,\n",
       "                                              min_impurity_decrease=0.0,\n",
       "                                              min_impurity_split=None,\n",
       "                                              min_samples_leaf=1,\n",
       "                                              min_samples_split=2,\n",
       "                                              min_weight_fraction_leaf=0.0,\n",
       "                                              presort='deprecated',\n",
       "                                              random_state=None,\n",
       "                                              splitter='best'),\n",
       "             iid='deprecated', n_jobs=None,\n",
       "             param_grid=[{'max_features': range(1, 30)}],\n",
       "             pre_dispatch='2*n_jobs', refit=True, return_train_score=True,\n",
       "             scoring=None, verbose=0)"
      ]
     },
     "execution_count": 188,
     "metadata": {},
     "output_type": "execute_result"
    }
   ],
   "source": [
    "param_grid = [{'max_features':range(1, len(esrb_df.columns))}]\n",
    "esrb_dtclf_grid_search = GridSearchCV(esrb_dtclf, param_grid, cv=8,\n",
    "                           return_train_score=True)\n",
    "\n",
    "esrb_dtclf_grid_search.fit(X_train, y_train)"
   ]
  },
  {
   "cell_type": "code",
   "execution_count": 189,
   "metadata": {},
   "outputs": [
    {
     "name": "stdout",
     "output_type": "stream",
     "text": [
      "DecisionTreeClassifier(ccp_alpha=0.0, class_weight=None, criterion='gini',\n",
      "                       max_depth=None, max_features=15, max_leaf_nodes=None,\n",
      "                       min_impurity_decrease=0.0, min_impurity_split=None,\n",
      "                       min_samples_leaf=1, min_samples_split=2,\n",
      "                       min_weight_fraction_leaf=0.0, presort='deprecated',\n",
      "                       random_state=None, splitter='best')\n",
      "{'max_features': 15}\n"
     ]
    }
   ],
   "source": [
    "print(esrb_dtclf_grid_search.best_estimator_)\n",
    "print(esrb_dtclf_grid_search.best_params_)"
   ]
  },
  {
   "cell_type": "code",
   "execution_count": 190,
   "metadata": {},
   "outputs": [
    {
     "name": "stdout",
     "output_type": "stream",
     "text": [
      "0.9072398190045249\n",
      "0.09276018099547512\n",
      "              precision    recall  f1-score   support\n",
      "\n",
      "           0       0.97      0.98      0.97       290\n",
      "           1       0.89      0.87      0.88       287\n",
      "           2       0.94      0.92      0.93       271\n",
      "           3       0.91      0.88      0.90       478\n",
      "\n",
      "   micro avg       0.93      0.91      0.92      1326\n",
      "   macro avg       0.93      0.91      0.92      1326\n",
      "weighted avg       0.93      0.91      0.92      1326\n",
      " samples avg       0.91      0.91      0.91      1326\n",
      "\n"
     ]
    },
    {
     "name": "stderr",
     "output_type": "stream",
     "text": [
      "C:\\Users\\gilat\\anaconda3\\lib\\site-packages\\sklearn\\metrics\\_classification.py:1272: UndefinedMetricWarning: Precision and F-score are ill-defined and being set to 0.0 in samples with no predicted labels. Use `zero_division` parameter to control this behavior.\n",
      "  _warn_prf(average, modifier, msg_start, len(result))\n"
     ]
    }
   ],
   "source": [
    "best_y_train_pred_dt = esrb_dtclf_grid_search.best_estimator_.predict(X_train)\n",
    "print(metrics.accuracy_score(y_train,best_y_train_pred_dt))\n",
    "print(metrics.zero_one_loss(y_train, best_y_train_pred_dt))\n",
    "print(metrics.classification_report(y_train, best_y_train_pred_dt))"
   ]
  },
  {
   "cell_type": "code",
   "execution_count": 198,
   "metadata": {},
   "outputs": [
    {
     "data": {
      "text/plain": [
       "GridSearchCV(cv=8, error_score=nan,\n",
       "             estimator=RandomForestClassifier(bootstrap=True, ccp_alpha=0.0,\n",
       "                                              class_weight=None,\n",
       "                                              criterion='gini', max_depth=None,\n",
       "                                              max_features='auto',\n",
       "                                              max_leaf_nodes=None,\n",
       "                                              max_samples=None,\n",
       "                                              min_impurity_decrease=0.0,\n",
       "                                              min_impurity_split=None,\n",
       "                                              min_samples_leaf=1,\n",
       "                                              min_samples_split=2,\n",
       "                                              min_weight_fraction_leaf=0.0,\n",
       "                                              n_estimators=500, n_jobs=None,\n",
       "                                              oob_score=False,\n",
       "                                              random_state=52637, verbose=0,\n",
       "                                              warm_start=False),\n",
       "             iid='deprecated', n_jobs=-1,\n",
       "             param_grid=[{'max_features': range(1, 30)}],\n",
       "             pre_dispatch='2*n_jobs', refit=True, return_train_score=True,\n",
       "             scoring=None, verbose=0)"
      ]
     },
     "execution_count": 198,
     "metadata": {},
     "output_type": "execute_result"
    }
   ],
   "source": [
    "param_grid = [{'max_features':range(1, len(esrb_df.columns))}]\n",
    "esrb_rfclf_grid_search = GridSearchCV(esrb_rfclf, param_grid, cv=8,\n",
    "                           return_train_score=True, n_jobs=-1)\n",
    "\n",
    "esrb_rfclf_grid_search.fit(X_train, y_train)"
   ]
  },
  {
   "cell_type": "code",
   "execution_count": 199,
   "metadata": {},
   "outputs": [
    {
     "name": "stdout",
     "output_type": "stream",
     "text": [
      "RandomForestClassifier(bootstrap=True, ccp_alpha=0.0, class_weight=None,\n",
      "                       criterion='gini', max_depth=None, max_features=5,\n",
      "                       max_leaf_nodes=None, max_samples=None,\n",
      "                       min_impurity_decrease=0.0, min_impurity_split=None,\n",
      "                       min_samples_leaf=1, min_samples_split=2,\n",
      "                       min_weight_fraction_leaf=0.0, n_estimators=500,\n",
      "                       n_jobs=None, oob_score=False, random_state=52637,\n",
      "                       verbose=0, warm_start=False)\n",
      "{'max_features': 5}\n"
     ]
    }
   ],
   "source": [
    "print(esrb_rfclf_grid_search.best_estimator_)\n",
    "print(esrb_rfclf_grid_search.best_params_)"
   ]
  },
  {
   "cell_type": "code",
   "execution_count": 200,
   "metadata": {},
   "outputs": [
    {
     "name": "stdout",
     "output_type": "stream",
     "text": [
      "0.9155354449472096\n",
      "0.08446455505279038\n",
      "              precision    recall  f1-score   support\n",
      "\n",
      "           0       0.96      0.99      0.97       290\n",
      "           1       0.89      0.87      0.88       287\n",
      "           2       0.94      0.92      0.93       271\n",
      "           3       0.90      0.90      0.90       478\n",
      "\n",
      "   micro avg       0.92      0.92      0.92      1326\n",
      "   macro avg       0.92      0.92      0.92      1326\n",
      "weighted avg       0.92      0.92      0.92      1326\n",
      " samples avg       0.92      0.92      0.92      1326\n",
      "\n"
     ]
    },
    {
     "name": "stderr",
     "output_type": "stream",
     "text": [
      "C:\\Users\\gilat\\anaconda3\\lib\\site-packages\\sklearn\\metrics\\_classification.py:1272: UndefinedMetricWarning: Precision and F-score are ill-defined and being set to 0.0 in samples with no predicted labels. Use `zero_division` parameter to control this behavior.\n",
      "  _warn_prf(average, modifier, msg_start, len(result))\n"
     ]
    }
   ],
   "source": [
    "best_y_train_pred_rf = esrb_rfclf_grid_search.best_estimator_.predict(X_train)\n",
    "print(metrics.accuracy_score(y_train,best_y_train_pred_rf))\n",
    "print(metrics.zero_one_loss(y_train, best_y_train_pred_rf))\n",
    "print(metrics.classification_report(y_train, best_y_train_pred_rf))"
   ]
  },
  {
   "cell_type": "code",
   "execution_count": 208,
   "metadata": {},
   "outputs": [
    {
     "data": {
      "text/html": [
       "<div>\n",
       "<style scoped>\n",
       "    .dataframe tbody tr th:only-of-type {\n",
       "        vertical-align: middle;\n",
       "    }\n",
       "\n",
       "    .dataframe tbody tr th {\n",
       "        vertical-align: top;\n",
       "    }\n",
       "\n",
       "    .dataframe thead th {\n",
       "        text-align: right;\n",
       "    }\n",
       "</style>\n",
       "<table border=\"1\" class=\"dataframe\">\n",
       "  <thead>\n",
       "    <tr style=\"text-align: right;\">\n",
       "      <th></th>\n",
       "      <th>Feature</th>\n",
       "      <th>Importances</th>\n",
       "    </tr>\n",
       "  </thead>\n",
       "  <tbody>\n",
       "    <tr>\n",
       "      <th>24</th>\n",
       "      <td>strong_janguage</td>\n",
       "      <td>0.133804</td>\n",
       "    </tr>\n",
       "    <tr>\n",
       "      <th>7</th>\n",
       "      <td>fantasy_violence</td>\n",
       "      <td>0.120852</td>\n",
       "    </tr>\n",
       "    <tr>\n",
       "      <th>2</th>\n",
       "      <td>blood</td>\n",
       "      <td>0.111862</td>\n",
       "    </tr>\n",
       "    <tr>\n",
       "      <th>3</th>\n",
       "      <td>blood_and_gore</td>\n",
       "      <td>0.087532</td>\n",
       "    </tr>\n",
       "    <tr>\n",
       "      <th>29</th>\n",
       "      <td>violence</td>\n",
       "      <td>0.046871</td>\n",
       "    </tr>\n",
       "    <tr>\n",
       "      <th>26</th>\n",
       "      <td>suggestive_themes</td>\n",
       "      <td>0.045074</td>\n",
       "    </tr>\n",
       "    <tr>\n",
       "      <th>9</th>\n",
       "      <td>language</td>\n",
       "      <td>0.043274</td>\n",
       "    </tr>\n",
       "    <tr>\n",
       "      <th>8</th>\n",
       "      <td>intense_violence</td>\n",
       "      <td>0.035745</td>\n",
       "    </tr>\n",
       "    <tr>\n",
       "      <th>18</th>\n",
       "      <td>mild_violence</td>\n",
       "      <td>0.031833</td>\n",
       "    </tr>\n",
       "    <tr>\n",
       "      <th>23</th>\n",
       "      <td>simulated_gambling</td>\n",
       "      <td>0.029654</td>\n",
       "    </tr>\n",
       "    <tr>\n",
       "      <th>12</th>\n",
       "      <td>mild_blood</td>\n",
       "      <td>0.027868</td>\n",
       "    </tr>\n",
       "    <tr>\n",
       "      <th>4</th>\n",
       "      <td>cartoon_violence</td>\n",
       "      <td>0.027227</td>\n",
       "    </tr>\n",
       "    <tr>\n",
       "      <th>5</th>\n",
       "      <td>crude_humor</td>\n",
       "      <td>0.026839</td>\n",
       "    </tr>\n",
       "    <tr>\n",
       "      <th>22</th>\n",
       "      <td>sexual_themes</td>\n",
       "      <td>0.025888</td>\n",
       "    </tr>\n",
       "    <tr>\n",
       "      <th>17</th>\n",
       "      <td>mild_suggestive_themes</td>\n",
       "      <td>0.024941</td>\n",
       "    </tr>\n",
       "    <tr>\n",
       "      <th>25</th>\n",
       "      <td>strong_sexual_content</td>\n",
       "      <td>0.022699</td>\n",
       "    </tr>\n",
       "    <tr>\n",
       "      <th>0</th>\n",
       "      <td>alcohol_reference</td>\n",
       "      <td>0.021200</td>\n",
       "    </tr>\n",
       "    <tr>\n",
       "      <th>14</th>\n",
       "      <td>mild_fantasy_violence</td>\n",
       "      <td>0.018896</td>\n",
       "    </tr>\n",
       "    <tr>\n",
       "      <th>10</th>\n",
       "      <td>lyrics</td>\n",
       "      <td>0.015537</td>\n",
       "    </tr>\n",
       "    <tr>\n",
       "      <th>27</th>\n",
       "      <td>use_of_alcohol</td>\n",
       "      <td>0.013012</td>\n",
       "    </tr>\n",
       "    <tr>\n",
       "      <th>6</th>\n",
       "      <td>drug_reference</td>\n",
       "      <td>0.012938</td>\n",
       "    </tr>\n",
       "    <tr>\n",
       "      <th>1</th>\n",
       "      <td>animated_blood</td>\n",
       "      <td>0.011752</td>\n",
       "    </tr>\n",
       "    <tr>\n",
       "      <th>15</th>\n",
       "      <td>mild_language</td>\n",
       "      <td>0.011740</td>\n",
       "    </tr>\n",
       "    <tr>\n",
       "      <th>21</th>\n",
       "      <td>sexual_content</td>\n",
       "      <td>0.011195</td>\n",
       "    </tr>\n",
       "    <tr>\n",
       "      <th>16</th>\n",
       "      <td>mild_lyrics</td>\n",
       "      <td>0.011019</td>\n",
       "    </tr>\n",
       "    <tr>\n",
       "      <th>20</th>\n",
       "      <td>partial_nudity</td>\n",
       "      <td>0.010821</td>\n",
       "    </tr>\n",
       "    <tr>\n",
       "      <th>28</th>\n",
       "      <td>use_of_drugs_and_alcohol</td>\n",
       "      <td>0.005496</td>\n",
       "    </tr>\n",
       "    <tr>\n",
       "      <th>13</th>\n",
       "      <td>mild_cartoon_violence</td>\n",
       "      <td>0.005415</td>\n",
       "    </tr>\n",
       "    <tr>\n",
       "      <th>11</th>\n",
       "      <td>mature_humor</td>\n",
       "      <td>0.005081</td>\n",
       "    </tr>\n",
       "    <tr>\n",
       "      <th>19</th>\n",
       "      <td>nudity</td>\n",
       "      <td>0.003933</td>\n",
       "    </tr>\n",
       "  </tbody>\n",
       "</table>\n",
       "</div>"
      ],
      "text/plain": [
       "                     Feature  Importances\n",
       "24           strong_janguage     0.133804\n",
       "7           fantasy_violence     0.120852\n",
       "2                      blood     0.111862\n",
       "3             blood_and_gore     0.087532\n",
       "29                  violence     0.046871\n",
       "26         suggestive_themes     0.045074\n",
       "9                   language     0.043274\n",
       "8           intense_violence     0.035745\n",
       "18             mild_violence     0.031833\n",
       "23        simulated_gambling     0.029654\n",
       "12                mild_blood     0.027868\n",
       "4           cartoon_violence     0.027227\n",
       "5                crude_humor     0.026839\n",
       "22             sexual_themes     0.025888\n",
       "17    mild_suggestive_themes     0.024941\n",
       "25     strong_sexual_content     0.022699\n",
       "0          alcohol_reference     0.021200\n",
       "14     mild_fantasy_violence     0.018896\n",
       "10                    lyrics     0.015537\n",
       "27            use_of_alcohol     0.013012\n",
       "6             drug_reference     0.012938\n",
       "1             animated_blood     0.011752\n",
       "15             mild_language     0.011740\n",
       "21            sexual_content     0.011195\n",
       "16               mild_lyrics     0.011019\n",
       "20            partial_nudity     0.010821\n",
       "28  use_of_drugs_and_alcohol     0.005496\n",
       "13     mild_cartoon_violence     0.005415\n",
       "11              mature_humor     0.005081\n",
       "19                    nudity     0.003933"
      ]
     },
     "execution_count": 208,
     "metadata": {},
     "output_type": "execute_result"
    }
   ],
   "source": [
    "feature_list =[]\n",
    "feature_importances = esrb_rfclf_grid_search.best_estimator_.feature_importances_\n",
    "feature_names = X_train.columns.values\n",
    "for i in range(len(feature_importances)):\n",
    "    feature_list.append([feature_names[i], feature_importances[i]])\n",
    "feature_df_rf = pd.DataFrame(feature_list, columns = ['Feature', 'Importances'])\n",
    "feature_df_rf.sort_values(by=['Importances'],ascending=False)"
   ]
  },
  {
   "cell_type": "code",
   "execution_count": 211,
   "metadata": {},
   "outputs": [
    {
     "data": {
      "text/html": [
       "<div>\n",
       "<style scoped>\n",
       "    .dataframe tbody tr th:only-of-type {\n",
       "        vertical-align: middle;\n",
       "    }\n",
       "\n",
       "    .dataframe tbody tr th {\n",
       "        vertical-align: top;\n",
       "    }\n",
       "\n",
       "    .dataframe thead th {\n",
       "        text-align: right;\n",
       "    }\n",
       "</style>\n",
       "<table border=\"1\" class=\"dataframe\">\n",
       "  <thead>\n",
       "    <tr style=\"text-align: right;\">\n",
       "      <th></th>\n",
       "      <th>DT_Feature</th>\n",
       "      <th>DT_Importances</th>\n",
       "      <th>RF_Feature</th>\n",
       "      <th>RF_Importances</th>\n",
       "    </tr>\n",
       "  </thead>\n",
       "  <tbody>\n",
       "    <tr>\n",
       "      <th>0</th>\n",
       "      <td>alcohol_reference</td>\n",
       "      <td>0.017660</td>\n",
       "      <td>alcohol_reference</td>\n",
       "      <td>0.021200</td>\n",
       "    </tr>\n",
       "    <tr>\n",
       "      <th>1</th>\n",
       "      <td>animated_blood</td>\n",
       "      <td>0.012415</td>\n",
       "      <td>animated_blood</td>\n",
       "      <td>0.011752</td>\n",
       "    </tr>\n",
       "    <tr>\n",
       "      <th>2</th>\n",
       "      <td>blood</td>\n",
       "      <td>0.102803</td>\n",
       "      <td>blood</td>\n",
       "      <td>0.111862</td>\n",
       "    </tr>\n",
       "    <tr>\n",
       "      <th>3</th>\n",
       "      <td>blood_and_gore</td>\n",
       "      <td>0.088887</td>\n",
       "      <td>blood_and_gore</td>\n",
       "      <td>0.087532</td>\n",
       "    </tr>\n",
       "    <tr>\n",
       "      <th>4</th>\n",
       "      <td>cartoon_violence</td>\n",
       "      <td>0.036606</td>\n",
       "      <td>cartoon_violence</td>\n",
       "      <td>0.027227</td>\n",
       "    </tr>\n",
       "    <tr>\n",
       "      <th>5</th>\n",
       "      <td>crude_humor</td>\n",
       "      <td>0.040013</td>\n",
       "      <td>crude_humor</td>\n",
       "      <td>0.026839</td>\n",
       "    </tr>\n",
       "    <tr>\n",
       "      <th>6</th>\n",
       "      <td>drug_reference</td>\n",
       "      <td>0.014470</td>\n",
       "      <td>drug_reference</td>\n",
       "      <td>0.012938</td>\n",
       "    </tr>\n",
       "    <tr>\n",
       "      <th>7</th>\n",
       "      <td>fantasy_violence</td>\n",
       "      <td>0.120897</td>\n",
       "      <td>fantasy_violence</td>\n",
       "      <td>0.120852</td>\n",
       "    </tr>\n",
       "    <tr>\n",
       "      <th>8</th>\n",
       "      <td>intense_violence</td>\n",
       "      <td>0.039288</td>\n",
       "      <td>intense_violence</td>\n",
       "      <td>0.035745</td>\n",
       "    </tr>\n",
       "    <tr>\n",
       "      <th>9</th>\n",
       "      <td>language</td>\n",
       "      <td>0.042009</td>\n",
       "      <td>language</td>\n",
       "      <td>0.043274</td>\n",
       "    </tr>\n",
       "    <tr>\n",
       "      <th>10</th>\n",
       "      <td>lyrics</td>\n",
       "      <td>0.016875</td>\n",
       "      <td>lyrics</td>\n",
       "      <td>0.015537</td>\n",
       "    </tr>\n",
       "    <tr>\n",
       "      <th>11</th>\n",
       "      <td>mature_humor</td>\n",
       "      <td>0.005244</td>\n",
       "      <td>mature_humor</td>\n",
       "      <td>0.005081</td>\n",
       "    </tr>\n",
       "    <tr>\n",
       "      <th>12</th>\n",
       "      <td>mild_blood</td>\n",
       "      <td>0.033080</td>\n",
       "      <td>mild_blood</td>\n",
       "      <td>0.027868</td>\n",
       "    </tr>\n",
       "    <tr>\n",
       "      <th>13</th>\n",
       "      <td>mild_cartoon_violence</td>\n",
       "      <td>0.002501</td>\n",
       "      <td>mild_cartoon_violence</td>\n",
       "      <td>0.005415</td>\n",
       "    </tr>\n",
       "    <tr>\n",
       "      <th>14</th>\n",
       "      <td>mild_fantasy_violence</td>\n",
       "      <td>0.004502</td>\n",
       "      <td>mild_fantasy_violence</td>\n",
       "      <td>0.018896</td>\n",
       "    </tr>\n",
       "    <tr>\n",
       "      <th>15</th>\n",
       "      <td>mild_language</td>\n",
       "      <td>0.012444</td>\n",
       "      <td>mild_language</td>\n",
       "      <td>0.011740</td>\n",
       "    </tr>\n",
       "    <tr>\n",
       "      <th>16</th>\n",
       "      <td>mild_lyrics</td>\n",
       "      <td>0.005561</td>\n",
       "      <td>mild_lyrics</td>\n",
       "      <td>0.011019</td>\n",
       "    </tr>\n",
       "    <tr>\n",
       "      <th>17</th>\n",
       "      <td>mild_suggestive_themes</td>\n",
       "      <td>0.026818</td>\n",
       "      <td>mild_suggestive_themes</td>\n",
       "      <td>0.024941</td>\n",
       "    </tr>\n",
       "    <tr>\n",
       "      <th>18</th>\n",
       "      <td>mild_violence</td>\n",
       "      <td>0.029001</td>\n",
       "      <td>mild_violence</td>\n",
       "      <td>0.031833</td>\n",
       "    </tr>\n",
       "    <tr>\n",
       "      <th>19</th>\n",
       "      <td>nudity</td>\n",
       "      <td>0.001422</td>\n",
       "      <td>nudity</td>\n",
       "      <td>0.003933</td>\n",
       "    </tr>\n",
       "    <tr>\n",
       "      <th>20</th>\n",
       "      <td>partial_nudity</td>\n",
       "      <td>0.010179</td>\n",
       "      <td>partial_nudity</td>\n",
       "      <td>0.010821</td>\n",
       "    </tr>\n",
       "    <tr>\n",
       "      <th>21</th>\n",
       "      <td>sexual_content</td>\n",
       "      <td>0.010102</td>\n",
       "      <td>sexual_content</td>\n",
       "      <td>0.011195</td>\n",
       "    </tr>\n",
       "    <tr>\n",
       "      <th>22</th>\n",
       "      <td>sexual_themes</td>\n",
       "      <td>0.014783</td>\n",
       "      <td>sexual_themes</td>\n",
       "      <td>0.025888</td>\n",
       "    </tr>\n",
       "    <tr>\n",
       "      <th>23</th>\n",
       "      <td>simulated_gambling</td>\n",
       "      <td>0.017490</td>\n",
       "      <td>simulated_gambling</td>\n",
       "      <td>0.029654</td>\n",
       "    </tr>\n",
       "    <tr>\n",
       "      <th>24</th>\n",
       "      <td>strong_janguage</td>\n",
       "      <td>0.164042</td>\n",
       "      <td>strong_janguage</td>\n",
       "      <td>0.133804</td>\n",
       "    </tr>\n",
       "    <tr>\n",
       "      <th>25</th>\n",
       "      <td>strong_sexual_content</td>\n",
       "      <td>0.015600</td>\n",
       "      <td>strong_sexual_content</td>\n",
       "      <td>0.022699</td>\n",
       "    </tr>\n",
       "    <tr>\n",
       "      <th>26</th>\n",
       "      <td>suggestive_themes</td>\n",
       "      <td>0.043972</td>\n",
       "      <td>suggestive_themes</td>\n",
       "      <td>0.045074</td>\n",
       "    </tr>\n",
       "    <tr>\n",
       "      <th>27</th>\n",
       "      <td>use_of_alcohol</td>\n",
       "      <td>0.015449</td>\n",
       "      <td>use_of_alcohol</td>\n",
       "      <td>0.013012</td>\n",
       "    </tr>\n",
       "    <tr>\n",
       "      <th>28</th>\n",
       "      <td>use_of_drugs_and_alcohol</td>\n",
       "      <td>0.005910</td>\n",
       "      <td>use_of_drugs_and_alcohol</td>\n",
       "      <td>0.005496</td>\n",
       "    </tr>\n",
       "    <tr>\n",
       "      <th>29</th>\n",
       "      <td>violence</td>\n",
       "      <td>0.049980</td>\n",
       "      <td>violence</td>\n",
       "      <td>0.046871</td>\n",
       "    </tr>\n",
       "  </tbody>\n",
       "</table>\n",
       "</div>"
      ],
      "text/plain": [
       "                  DT_Feature  DT_Importances                RF_Feature  \\\n",
       "0          alcohol_reference        0.017660         alcohol_reference   \n",
       "1             animated_blood        0.012415            animated_blood   \n",
       "2                      blood        0.102803                     blood   \n",
       "3             blood_and_gore        0.088887            blood_and_gore   \n",
       "4           cartoon_violence        0.036606          cartoon_violence   \n",
       "5                crude_humor        0.040013               crude_humor   \n",
       "6             drug_reference        0.014470            drug_reference   \n",
       "7           fantasy_violence        0.120897          fantasy_violence   \n",
       "8           intense_violence        0.039288          intense_violence   \n",
       "9                   language        0.042009                  language   \n",
       "10                    lyrics        0.016875                    lyrics   \n",
       "11              mature_humor        0.005244              mature_humor   \n",
       "12                mild_blood        0.033080                mild_blood   \n",
       "13     mild_cartoon_violence        0.002501     mild_cartoon_violence   \n",
       "14     mild_fantasy_violence        0.004502     mild_fantasy_violence   \n",
       "15             mild_language        0.012444             mild_language   \n",
       "16               mild_lyrics        0.005561               mild_lyrics   \n",
       "17    mild_suggestive_themes        0.026818    mild_suggestive_themes   \n",
       "18             mild_violence        0.029001             mild_violence   \n",
       "19                    nudity        0.001422                    nudity   \n",
       "20            partial_nudity        0.010179            partial_nudity   \n",
       "21            sexual_content        0.010102            sexual_content   \n",
       "22             sexual_themes        0.014783             sexual_themes   \n",
       "23        simulated_gambling        0.017490        simulated_gambling   \n",
       "24           strong_janguage        0.164042           strong_janguage   \n",
       "25     strong_sexual_content        0.015600     strong_sexual_content   \n",
       "26         suggestive_themes        0.043972         suggestive_themes   \n",
       "27            use_of_alcohol        0.015449            use_of_alcohol   \n",
       "28  use_of_drugs_and_alcohol        0.005910  use_of_drugs_and_alcohol   \n",
       "29                  violence        0.049980                  violence   \n",
       "\n",
       "    RF_Importances  \n",
       "0         0.021200  \n",
       "1         0.011752  \n",
       "2         0.111862  \n",
       "3         0.087532  \n",
       "4         0.027227  \n",
       "5         0.026839  \n",
       "6         0.012938  \n",
       "7         0.120852  \n",
       "8         0.035745  \n",
       "9         0.043274  \n",
       "10        0.015537  \n",
       "11        0.005081  \n",
       "12        0.027868  \n",
       "13        0.005415  \n",
       "14        0.018896  \n",
       "15        0.011740  \n",
       "16        0.011019  \n",
       "17        0.024941  \n",
       "18        0.031833  \n",
       "19        0.003933  \n",
       "20        0.010821  \n",
       "21        0.011195  \n",
       "22        0.025888  \n",
       "23        0.029654  \n",
       "24        0.133804  \n",
       "25        0.022699  \n",
       "26        0.045074  \n",
       "27        0.013012  \n",
       "28        0.005496  \n",
       "29        0.046871  "
      ]
     },
     "execution_count": 211,
     "metadata": {},
     "output_type": "execute_result"
    }
   ],
   "source": [
    "feature_list =[]\n",
    "feature_importances = esrb_dtclf_grid_search.best_estimator_.feature_importances_\n",
    "feature_names = X_train.columns.values\n",
    "for i in range(len(feature_importances)):\n",
    "    feature_list.append([feature_names[i], feature_importances[i]])\n",
    "feature_df = pd.DataFrame(feature_list, columns = ['DT_Feature', 'DT_Importances'])\n",
    "feature_df.sort_values(by=['DT_Importances'],ascending=False)\n",
    "feature_df[['RF_Feature', 'RF_Importances']]=feature_df_rf[['Feature', 'Importances']]\n",
    "feature_df"
   ]
  },
  {
   "cell_type": "code",
   "execution_count": 206,
   "metadata": {},
   "outputs": [
    {
     "name": "stdout",
     "output_type": "stream",
     "text": [
      "Random Forest\n",
      "Accuracy Score\n",
      "0.8541300527240774\n",
      "0.14586994727592262\n",
      "              precision    recall  f1-score   support\n",
      "\n",
      "           0       0.96      0.97      0.96       126\n",
      "           1       0.78      0.75      0.76       116\n",
      "           2       0.91      0.92      0.92       116\n",
      "           3       0.85      0.81      0.83       211\n",
      "\n",
      "   micro avg       0.88      0.85      0.86       569\n",
      "   macro avg       0.88      0.86      0.87       569\n",
      "weighted avg       0.87      0.85      0.86       569\n",
      " samples avg       0.85      0.85      0.85       569\n",
      "\n",
      "Decision Tree \n",
      "Accuracy Score\n",
      "0.8418277680140598\n",
      "0.15817223198594021\n",
      "              precision    recall  f1-score   support\n",
      "\n",
      "           0       0.98      0.97      0.97       126\n",
      "           1       0.77      0.75      0.76       116\n",
      "           2       0.88      0.91      0.90       116\n",
      "           3       0.85      0.78      0.81       211\n",
      "\n",
      "   micro avg       0.87      0.84      0.86       569\n",
      "   macro avg       0.87      0.85      0.86       569\n",
      "weighted avg       0.87      0.84      0.85       569\n",
      " samples avg       0.84      0.84      0.84       569\n",
      "\n"
     ]
    },
    {
     "name": "stderr",
     "output_type": "stream",
     "text": [
      "C:\\Users\\gilat\\anaconda3\\lib\\site-packages\\sklearn\\metrics\\_classification.py:1272: UndefinedMetricWarning: Precision and F-score are ill-defined and being set to 0.0 in samples with no predicted labels. Use `zero_division` parameter to control this behavior.\n",
      "  _warn_prf(average, modifier, msg_start, len(result))\n",
      "C:\\Users\\gilat\\anaconda3\\lib\\site-packages\\sklearn\\metrics\\_classification.py:1272: UndefinedMetricWarning: Precision and F-score are ill-defined and being set to 0.0 in samples with no predicted labels. Use `zero_division` parameter to control this behavior.\n",
      "  _warn_prf(average, modifier, msg_start, len(result))\n"
     ]
    }
   ],
   "source": [
    "print('Random Forest')\n",
    "y_test_pred_rf = esrb_rfclf_grid_search.best_estimator_.predict(X_test)\n",
    "print('Accuracy Score')\n",
    "print(metrics.accuracy_score(y_test,y_test_pred_rf))\n",
    "print(metrics.zero_one_loss(y_test, y_test_pred_rf))\n",
    "print(metrics.classification_report(y_test, y_test_pred_rf))\n",
    "print('Decision Tree ')\n",
    "y_test_pred_dt = esrb_dtclf_grid_search.best_estimator_.predict(X_test)\n",
    "print('Accuracy Score')\n",
    "print(metrics.accuracy_score(y_test,y_test_pred_dt))\n",
    "print(metrics.zero_one_loss(y_test, y_test_pred_dt))\n",
    "print(metrics.classification_report(y_test, y_test_pred_dt))"
   ]
  }
 ],
 "metadata": {
  "kernelspec": {
   "display_name": "Python 3",
   "language": "python",
   "name": "python3"
  },
  "language_info": {
   "codemirror_mode": {
    "name": "ipython",
    "version": 3
   },
   "file_extension": ".py",
   "mimetype": "text/x-python",
   "name": "python",
   "nbconvert_exporter": "python",
   "pygments_lexer": "ipython3",
   "version": "3.7.6"
  }
 },
 "nbformat": 4,
 "nbformat_minor": 4
}
